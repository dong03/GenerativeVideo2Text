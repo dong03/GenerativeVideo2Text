{
 "cells": [
  {
   "cell_type": "code",
   "execution_count": null,
   "id": "3ae7e17e",
   "metadata": {},
   "outputs": [],
   "source": [
    "import sys\n",
    "sys.path.insert(0, './generativeimage2text')\n",
    "from torch_common import load_state_dict\n",
    "from model import get_git_model\n",
    "from transformers import AutoTokenizer\n",
    "import torch\n",
    "import ruamel.yaml as yaml\n",
    "import matplotlib\n",
    "from infer import get_parameter_number, infer_single\n",
    "matplotlib.use('Agg')"
   ]
  },
  {
   "cell_type": "code",
   "execution_count": null,
   "id": "b53b26f0",
   "metadata": {},
   "outputs": [],
   "source": [
    "config = yaml.load(open('config/infer.yaml', 'r'), Loader=yaml.Loader)\n",
    "device = torch.device('cpu')"
   ]
  },
  {
   "cell_type": "code",
   "execution_count": null,
   "id": "5b6147ce",
   "metadata": {},
   "outputs": [],
   "source": [
    "tokenizer = AutoTokenizer.from_pretrained(\n",
    "        \"uer/gpt2-chinese-cluecorpussmall\")\n",
    "model = get_git_model(tokenizer, {}, config)\n",
    "checkpoint = torch.load('GVT_ft_ChinaOpen.pth', map_location='cpu')['model']\n",
    "load_state_dict(model, checkpoint)\n",
    "model.eval()\n",
    "model = model.to(device)\n",
    "get_parameter_number(model)"
   ]
  },
  {
   "cell_type": "code",
   "execution_count": null,
   "id": "1be3f0a3",
   "metadata": {},
   "outputs": [],
   "source": [
    "config['test_file'] = 'demo/BV1CN411o7WE.mp4'\n",
    "cap = infer_single(model, tokenizer, device, config)"
   ]
  }
 ],
 "metadata": {
  "kernelspec": {
   "display_name": "Python 3 (ipykernel)",
   "language": "python",
   "name": "python3"
  },
  "language_info": {
   "codemirror_mode": {
    "name": "ipython",
    "version": 3
   },
   "file_extension": ".py",
   "mimetype": "text/x-python",
   "name": "python",
   "nbconvert_exporter": "python",
   "pygments_lexer": "ipython3",
   "version": "3.7.11"
  }
 },
 "nbformat": 4,
 "nbformat_minor": 5
}
